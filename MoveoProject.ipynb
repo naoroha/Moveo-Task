{
 "cells": [
  {
   "cell_type": "markdown",
   "metadata": {},
   "source": [
    "# TASK 1\n",
    "extracting claims from three patents related to mobile communictions using `BeautifulSoup`"
   ]
  },
  {
   "cell_type": "markdown",
   "metadata": {},
   "source": [
    "MIGHT NEED TO INSTALL"
   ]
  },
  {
   "cell_type": "code",
   "execution_count": 82,
   "metadata": {},
   "outputs": [
    {
     "name": "stdout",
     "output_type": "stream",
     "text": [
      "Requirement already satisfied: transformers in c:\\users\\user\\appdata\\local\\packages\\pythonsoftwarefoundation.python.3.10_qbz5n2kfra8p0\\localcache\\local-packages\\python310\\site-packages (4.41.2)\n",
      "Requirement already satisfied: filelock in c:\\users\\user\\appdata\\local\\packages\\pythonsoftwarefoundation.python.3.10_qbz5n2kfra8p0\\localcache\\local-packages\\python310\\site-packages (from transformers) (3.15.4)\n",
      "Requirement already satisfied: huggingface-hub<1.0,>=0.23.0 in c:\\users\\user\\appdata\\local\\packages\\pythonsoftwarefoundation.python.3.10_qbz5n2kfra8p0\\localcache\\local-packages\\python310\\site-packages (from transformers) (0.23.4)\n",
      "Requirement already satisfied: numpy>=1.17 in c:\\users\\user\\appdata\\local\\packages\\pythonsoftwarefoundation.python.3.10_qbz5n2kfra8p0\\localcache\\local-packages\\python310\\site-packages (from transformers) (1.26.3)\n",
      "Requirement already satisfied: packaging>=20.0 in c:\\users\\user\\appdata\\local\\packages\\pythonsoftwarefoundation.python.3.10_qbz5n2kfra8p0\\localcache\\local-packages\\python310\\site-packages (from transformers) (23.2)\n",
      "Requirement already satisfied: pyyaml>=5.1 in c:\\users\\user\\appdata\\local\\packages\\pythonsoftwarefoundation.python.3.10_qbz5n2kfra8p0\\localcache\\local-packages\\python310\\site-packages (from transformers) (6.0.1)\n",
      "Requirement already satisfied: regex!=2019.12.17 in c:\\users\\user\\appdata\\local\\packages\\pythonsoftwarefoundation.python.3.10_qbz5n2kfra8p0\\localcache\\local-packages\\python310\\site-packages (from transformers) (2023.12.25)\n",
      "Requirement already satisfied: requests in c:\\users\\user\\appdata\\local\\packages\\pythonsoftwarefoundation.python.3.10_qbz5n2kfra8p0\\localcache\\local-packages\\python310\\site-packages (from transformers) (2.32.3)\n",
      "Requirement already satisfied: tokenizers<0.20,>=0.19 in c:\\users\\user\\appdata\\local\\packages\\pythonsoftwarefoundation.python.3.10_qbz5n2kfra8p0\\localcache\\local-packages\\python310\\site-packages (from transformers) (0.19.1)\n",
      "Requirement already satisfied: safetensors>=0.4.1 in c:\\users\\user\\appdata\\local\\packages\\pythonsoftwarefoundation.python.3.10_qbz5n2kfra8p0\\localcache\\local-packages\\python310\\site-packages (from transformers) (0.4.3)\n",
      "Requirement already satisfied: tqdm>=4.27 in c:\\users\\user\\appdata\\local\\packages\\pythonsoftwarefoundation.python.3.10_qbz5n2kfra8p0\\localcache\\local-packages\\python310\\site-packages (from transformers) (4.66.1)\n",
      "Requirement already satisfied: fsspec>=2023.5.0 in c:\\users\\user\\appdata\\local\\packages\\pythonsoftwarefoundation.python.3.10_qbz5n2kfra8p0\\localcache\\local-packages\\python310\\site-packages (from huggingface-hub<1.0,>=0.23.0->transformers) (2024.6.0)\n",
      "Requirement already satisfied: typing-extensions>=3.7.4.3 in c:\\users\\user\\appdata\\local\\packages\\pythonsoftwarefoundation.python.3.10_qbz5n2kfra8p0\\localcache\\local-packages\\python310\\site-packages (from huggingface-hub<1.0,>=0.23.0->transformers) (4.9.0)\n",
      "Requirement already satisfied: colorama in c:\\users\\user\\appdata\\local\\packages\\pythonsoftwarefoundation.python.3.10_qbz5n2kfra8p0\\localcache\\local-packages\\python310\\site-packages (from tqdm>=4.27->transformers) (0.4.6)\n",
      "Requirement already satisfied: charset-normalizer<4,>=2 in c:\\users\\user\\appdata\\local\\packages\\pythonsoftwarefoundation.python.3.10_qbz5n2kfra8p0\\localcache\\local-packages\\python310\\site-packages (from requests->transformers) (3.3.2)\n",
      "Requirement already satisfied: idna<4,>=2.5 in c:\\users\\user\\appdata\\local\\packages\\pythonsoftwarefoundation.python.3.10_qbz5n2kfra8p0\\localcache\\local-packages\\python310\\site-packages (from requests->transformers) (3.7)\n",
      "Requirement already satisfied: urllib3<3,>=1.21.1 in c:\\users\\user\\appdata\\local\\packages\\pythonsoftwarefoundation.python.3.10_qbz5n2kfra8p0\\localcache\\local-packages\\python310\\site-packages (from requests->transformers) (2.2.2)\n",
      "Requirement already satisfied: certifi>=2017.4.17 in c:\\users\\user\\appdata\\local\\packages\\pythonsoftwarefoundation.python.3.10_qbz5n2kfra8p0\\localcache\\local-packages\\python310\\site-packages (from requests->transformers) (2024.6.2)\n",
      "Note: you may need to restart the kernel to use updated packages.\n"
     ]
    }
   ],
   "source": [
    "# %pip install transformers\n",
    "# %pip install Flask\n",
    "# %pip install sentence-transformers\n",
    "# %pip install scikit-learn\n",
    "# %pip install requests\n",
    "# %pip install spacy\n",
    "# %pip install beautifulsoup4\n",
    "# %pip install numpy"
   ]
  },
  {
   "cell_type": "code",
   "execution_count": 83,
   "metadata": {},
   "outputs": [],
   "source": [
    "#from spacy.cli import download\n",
    "\n",
    "#download(\"en_core_web_sm\")"
   ]
  },
  {
   "cell_type": "code",
   "execution_count": 84,
   "metadata": {},
   "outputs": [],
   "source": [
    "import requests\n",
    "from bs4 import BeautifulSoup"
   ]
  },
  {
   "cell_type": "code",
   "execution_count": 85,
   "metadata": {},
   "outputs": [],
   "source": [
    "# Adding the headline 'Claims' in order to modify the function\n",
    "\n",
    "def extract_claims_text_from_url(url, headline_text):\n",
    "    # Creating BeautifulSoup instance\n",
    "    response = requests.get(url)\n",
    "\n",
    "    if response.status_code != 200:\n",
    "        print(f\"Failed to retrieve the webpage. Status code: {response.status_code}\")\n",
    "        return None\n",
    "\n",
    "    # Parse the HTML content\n",
    "    soup = BeautifulSoup(response.content, 'html.parser')\n",
    "\n",
    "    # Find the headline with the specified text\n",
    "    headline = soup.find(lambda tag: tag.name in ['h1', 'h2', 'h3', 'h4', 'h5', 'h6'] and headline_text.lower() in tag.get_text().lower())\n",
    "\n",
    "    if headline:\n",
    "        # Get all the following siblings until the next headline or end of section\n",
    "        content = []\n",
    "        for sibling in headline.find_next_siblings():\n",
    "            if sibling.name in ['h1', 'h2', 'h3', 'h4', 'h5', 'h6']:\n",
    "                break\n",
    "            content.append(sibling.get_text())\n",
    "\n",
    "\n",
    "        # Join the content into a single string\n",
    "        claims_text = \"\\n\".join(content)\n",
    "        \n",
    "        # Split the text into individual claims\n",
    "        claims = [claim.strip() for claim in claims_text.split('\\n\\n') if claim.strip()]\n",
    "        return claims\n",
    "    else:\n",
    "        return \"Headline not found.\""
   ]
  },
  {
   "cell_type": "markdown",
   "metadata": {},
   "source": [
    "### Extracting the claims from the URL and modifing it"
   ]
  },
  {
   "cell_type": "code",
   "execution_count": 86,
   "metadata": {},
   "outputs": [],
   "source": [
    "headline_text=\"claims\"\n",
    "claims_text = extract_claims_text_from_url(\"https://patents.google.com/patent/GB2478972A/en?q=(phone)&oq=phone\",headline_text)\n",
    "claims_text += extract_claims_text_from_url(\"https://patents.google.com/patent/US9634864B2/en?oq=US9634864B2\",headline_text)\n",
    "claims_text += extract_claims_text_from_url(\"https://patents.google.com/patent/US9980046B2/en?oq=US9980046B2\",headline_text)\n",
    "\n",
    "# Remove prefix until the first \".\"\n",
    "\n",
    "for i in range(len(claims_text)):\n",
    "    claim = claims_text[i]\n",
    "    dot_index = claim.find('.')\n",
    "    if dot_index != -1:\n",
    "        claims_text[i] = claim[dot_index + 1:].strip()"
   ]
  },
  {
   "cell_type": "markdown",
   "metadata": {},
   "source": [
    "# TASK 2\n",
    "#### Grouping claims by topic"
   ]
  },
  {
   "cell_type": "markdown",
   "metadata": {},
   "source": [
    "### 1. Clusting algorithem\n",
    "Taken from my late NLP course and my final project, suggesting a clustring algorithem:\n",
    "1. encode a set of m unhandled requests: R=(r1, r2, r3, …) into their vector representations \n",
    "(embeddings) E=(e1, e2, e3, …) using an LLM encoder using `all-MiniLM-L6-v2` and `SentenceTransformer`\n",
    "\n",
    "2. iterate over representations in E, where each request can be assigned to an existing cluster \n",
    "(if its proximity to the cluster’s centroid meets some similarity threshold), otherwise the \n",
    "request initiates its own cluster\n",
    "\n",
    "3. additional iterations over all request embeddings are performed till the algo convergence or \n",
    "till the max number of iterations is exhausted\n",
    "\n",
    "4. clusters with size exceeding a pre-defined min_size are reported as generated clusters\n",
    "\n",
    "5. all other requests are considered unclustered\n",
    "\n",
    "full documentation on the encoder - https://huggingface.co/sentence-transformers\n"
   ]
  },
  {
   "cell_type": "code",
   "execution_count": 87,
   "metadata": {},
   "outputs": [],
   "source": [
    "import json\n",
    "from sentence_transformers import SentenceTransformer\n",
    "import numpy as np\n",
    "from scipy.spatial.distance import cosine\n",
    "from sklearn.feature_extraction.text import TfidfVectorizer\n",
    "from sklearn.cluster import DBSCAN\n",
    "import spacy\n",
    "\n",
    "MODEL_NAME = 'all-MiniLM-L6-v2'\n",
    "nlp = spacy.load(\"en_core_web_sm\")\n"
   ]
  },
  {
   "cell_type": "markdown",
   "metadata": {},
   "source": [
    "first initialize, means that all the claims vectors are centroids, after one epoch we will update the centroid and keep adjusting\n",
    "\n",
    "*centroid - will be the mean of all points assigned to that cluster"
   ]
  },
  {
   "cell_type": "code",
   "execution_count": 88,
   "metadata": {},
   "outputs": [
    {
     "name": "stderr",
     "output_type": "stream",
     "text": [
      "C:\\Users\\user\\AppData\\Local\\Packages\\PythonSoftwareFoundation.Python.3.10_qbz5n2kfra8p0\\LocalCache\\local-packages\\Python310\\site-packages\\huggingface_hub\\file_download.py:1132: FutureWarning: `resume_download` is deprecated and will be removed in version 1.0.0. Downloads always resume when possible. If you want to force a new download, use `force_download=True`.\n",
      "  warnings.warn(\n"
     ]
    }
   ],
   "source": [
    "\n",
    "model = SentenceTransformer(MODEL_NAME)\n",
    "embeddings = model.encode(claims_text)\n",
    "\n",
    "clustered = [False] * len(claims_text) # A boolean array that represent if a claim text is tagged or not.\n",
    "\n",
    "centroids = {} # a dictionary that it's key will be an indexed cluster and it's value will be a list of claims vectors that belongs to that cluster\n",
    "\n",
    "centroids_sentences = {} #a dictionary that it's key will be an indexed cluster and it's value will be a list of claim texts that belongs to that cluster\n",
    "\n",
    "cluster = -1\n"
   ]
  },
  {
   "cell_type": "markdown",
   "metadata": {},
   "source": [
    "Than we define our similarity function and threshold"
   ]
  },
  {
   "cell_type": "code",
   "execution_count": 89,
   "metadata": {},
   "outputs": [],
   "source": [
    "def cosine_similarity(vec1,vec2):\n",
    "    return round(1.0-cosine(vec1, vec2),3)"
   ]
  },
  {
   "cell_type": "code",
   "execution_count": 90,
   "metadata": {},
   "outputs": [],
   "source": [
    "def belong_to_centroid(vector, centroid, threshold=0.634):\n",
    "    similarity = cosine_similarity(vector, centroid)\n",
    "    return np.all(similarity >= threshold)"
   ]
  },
  {
   "cell_type": "markdown",
   "metadata": {},
   "source": [
    "now we are foing to iterate over representations in the embeddings, where each claim can be assigned to an existing cluster \n",
    "(if its proximity to the cluster’s centroid meets some similarity threshold), otherwise the \n",
    "claim initiates its own cluster"
   ]
  },
  {
   "cell_type": "code",
   "execution_count": 91,
   "metadata": {},
   "outputs": [],
   "source": [
    "\n",
    "for claim in range(len(claims_text)):\n",
    "    #check if the claim allready clustered, else creates it's new cluster\n",
    "    if clustered[claim]:\n",
    "        continue\n",
    "    cluster += 1\n",
    "    clustered[claim] = True\n",
    "    centroids[cluster] = [embeddings[claim]]\n",
    "    centroids_sentences[cluster] = [claims_text[claim]]\n",
    "    for emb in range(claim + 1, len(claims_text)):\n",
    "        if not clustered[emb]:  # meaning embeddings[emb] not belong to any cluster yet\n",
    "            if belong_to_centroid(embeddings[emb], embeddings[claim]):\n",
    "                centroids[cluster].append(embeddings[emb])\n",
    "                centroids_sentences[cluster].append(claims_text[emb])\n",
    "                clustered[emb] = True"
   ]
  },
  {
   "cell_type": "markdown",
   "metadata": {},
   "source": [
    "creating a `retrain` loop that will update the centroids "
   ]
  },
  {
   "cell_type": "code",
   "execution_count": 92,
   "metadata": {},
   "outputs": [],
   "source": [
    "def retrain(centroids, embeddings, sentences):\n",
    "\n",
    "    similarity_threshold = 0.634\n",
    "    updated_centroids = []\n",
    "    for vectors in centroids.values():\n",
    "        if len(vectors) != 0:\n",
    "            updated_centroids.append(np.mean(vectors, axis=0))\n",
    "        else:\n",
    "            print(\"empty\")\n",
    "\n",
    "    clustered = [False] * len(embeddings)\n",
    "    new_centroids = {}\n",
    "    new_centroids_sentences = {}\n",
    "    cluster = -1\n",
    "    for vec in range(len(embeddings)):\n",
    "        if clustered[vec]:\n",
    "            continue\n",
    "        cluster += 1\n",
    "        max_similarity = similarity_threshold\n",
    "        max_similarity_idx = -1\n",
    "        for centroid in range(len(updated_centroids)):\n",
    "            if belong_to_centroid(embeddings[vec], updated_centroids[centroid], max_similarity):\n",
    "                max_similarity = cosine_similarity(embeddings[vec], updated_centroids[centroid])\n",
    "                max_similarity_idx = centroid\n",
    "\n",
    "        if max_similarity_idx not in new_centroids:\n",
    "            new_centroids[max_similarity_idx] = []\n",
    "            new_centroids_sentences[max_similarity_idx] = []\n",
    "\n",
    "        new_centroids[max_similarity_idx].append(embeddings[vec])\n",
    "        new_centroids_sentences[max_similarity_idx].append(sentences[vec])\n",
    "        clustered[vec] = True\n",
    "\n",
    "    return new_centroids, new_centroids_sentences\n"
   ]
  },
  {
   "cell_type": "code",
   "execution_count": 93,
   "metadata": {},
   "outputs": [],
   "source": [
    "for epoch in range(100):\n",
    "    centroids, centroids_sentences = retrain(centroids, embeddings, claims_text)"
   ]
  },
  {
   "cell_type": "code",
   "execution_count": 94,
   "metadata": {},
   "outputs": [],
   "source": [
    "def preprocess(sentences):\n",
    "    # Lemmatize the sentences using spaCy and exclude stopwords\n",
    "    lemmatized_sentences = []\n",
    "    for sentence in sentences:\n",
    "        doc = nlp(sentence)\n",
    "        lemmatized_tokens = [token.text for token in doc if (len(doc) <= 4 or not token.is_stop)]\n",
    "        lemmatized_sentence = \" \".join(lemmatized_tokens)\n",
    "        lemmatized_sentences.append(lemmatized_sentence)\n",
    "    return lemmatized_sentences"
   ]
  },
  {
   "cell_type": "code",
   "execution_count": 95,
   "metadata": {},
   "outputs": [],
   "source": [
    "def extract_best_label(sentences):\n",
    "\n",
    "    preprocessed_sentences = preprocess(sentences)\n",
    "\n",
    "    # Compute TF-IDF scores for n-gram token sequences (for N in (1,2, 3, 4))\n",
    "    vectorizer = TfidfVectorizer(ngram_range=(1, 4))\n",
    "    X = vectorizer.fit_transform(preprocessed_sentences)\n",
    "\n",
    "    # Get feature names (n-grams)\n",
    "    feature_names = vectorizer.get_feature_names_out()\n",
    "\n",
    "    # Compute TF-IDF scores for each n-gram across all documents\n",
    "    tfidf_scores = np.asarray(X.sum(axis=0)).ravel()\n",
    "\n",
    "    ngram_lengths = np.array([len(ngram.split())**2 for ngram in feature_names])\n",
    "\n",
    "    # Adjust TF-IDF scores based on n-gram length\n",
    "    adjusted_tfidf_scores = tfidf_scores * ngram_lengths\n",
    "\n",
    "    # Get the index of the n-gram with the highest adjusted TF-IDF score\n",
    "    best_ngram_idx = np.argmax(adjusted_tfidf_scores)\n",
    "\n",
    "    # Extract the best fitting cluster name\n",
    "    best_cluster_name = feature_names[best_ngram_idx]\n",
    "\n",
    "    return best_cluster_name"
   ]
  },
  {
   "cell_type": "code",
   "execution_count": 96,
   "metadata": {},
   "outputs": [],
   "source": [
    "def find_best_labels(groups):\n",
    "    result = {\"cluster_list\": []}\n",
    "\n",
    "    for group in groups.values():\n",
    "        represent = extract_best_label(group)\n",
    "        result[\"cluster_list\"].append({\"cluster_name\": represent.lower().strip() + f\"[{len(group)}]\", \"requests\": group})\n",
    "\n",
    "\n",
    "    return result"
   ]
  },
  {
   "cell_type": "markdown",
   "metadata": {},
   "source": [
    "Dumping the result to a Json file to see the output better"
   ]
  },
  {
   "cell_type": "code",
   "execution_count": 97,
   "metadata": {},
   "outputs": [],
   "source": [
    "result = find_best_labels(centroids_sentences)\n",
    "with open('method1.json', 'w') as json_file:\n",
    "    json.dump(result, json_file, indent=4)"
   ]
  },
  {
   "cell_type": "markdown",
   "metadata": {},
   "source": [
    "#### Method 1 sum up\n",
    "\n",
    "The algorithem above may not be the best algorithem you are going to see here in this notebook, but I made it during my finals at the NLP course , I thing it shows knowledge and understanding.\n",
    "\n",
    "it is a modification of the K - means combined with Hierarchical Clustering in order to answer the unknown number of clusters."
   ]
  },
  {
   "cell_type": "markdown",
   "metadata": {},
   "source": [
    "##### Advenages: \n",
    "\n",
    "\n",
    "1. Can provide more interpretable results in the form of a nested structure of clusters.\n",
    "\n",
    "2. It does not require the number of clusters to be specified in advance.\n"
   ]
  },
  {
   "cell_type": "markdown",
   "metadata": {},
   "source": [
    "##### Disadventages:\n",
    "\n",
    "1. More accurate when we can have an estimate number of clusters.\n",
    "\n",
    "2. Another disadventage that the order matters.\n",
    "\n",
    "3. Needs tuning(needs to retrain in order to get better results)"
   ]
  },
  {
   "cell_type": "markdown",
   "metadata": {},
   "source": [
    "##### Results:"
   ]
  },
  {
   "cell_type": "code",
   "execution_count": 98,
   "metadata": {},
   "outputs": [
    {
     "name": "stdout",
     "output_type": "stream",
     "text": [
      "number of groups: 19\n"
     ]
    }
   ],
   "source": [
    "number_of_groups=len(result[\"cluster_list\"])\n",
    "print(f\"number of groups: {number_of_groups}\")\n"
   ]
  },
  {
   "cell_type": "markdown",
   "metadata": {},
   "source": [
    "### Method 2: Cluster Paragraph Embeddings using DBSCAN\n",
    "DBSCAN defines clusters as dense regions of points separated by regions of lower density. It groups together points that are close to each other based on a distance measure"
   ]
  },
  {
   "cell_type": "code",
   "execution_count": 99,
   "metadata": {},
   "outputs": [],
   "source": [
    "from sklearn.cluster import DBSCAN\n",
    "\n",
    "# Compute DBSCAN\n",
    "dbscan = DBSCAN(eps=0.5, min_samples=2).fit(embeddings)\n",
    "\n",
    "# Get cluster labels\n",
    "labels_dbscan = dbscan.labels_\n",
    "# Group paragraphs by label\n",
    "clusters_dbscan = {}\n",
    "for paragraph, label in zip(claims_text, labels_dbscan):\n",
    "    if label not in clusters_dbscan:\n",
    "        clusters_dbscan[label] = []\n",
    "    clusters_dbscan[label].append(paragraph)\n",
    "\n",
    "result=find_best_labels(clusters_dbscan)\n",
    "with open('method2.json', 'w') as json_file:\n",
    "    json.dump(result, json_file, indent=4)\n",
    "\n",
    "\n"
   ]
  },
  {
   "cell_type": "markdown",
   "metadata": {},
   "source": [
    "#### Method 2 sum up\n"
   ]
  },
  {
   "cell_type": "markdown",
   "metadata": {},
   "source": [
    "##### Adventages:\n",
    "1. Can find arbitrarily shaped clusters.\n",
    "\n",
    "2. Can handle with outliers due to its definition of noise points.\n",
    "\n",
    "3. Does not require specifying the number of clusters beforehand"
   ]
  },
  {
   "cell_type": "markdown",
   "metadata": {},
   "source": [
    "##### Disadventages:\n",
    "\n",
    "1. Sensitive to the choice of `eps` and `min_samples` parameters.\n",
    "\n",
    "2. Struggles with datasets of varying densities and high-dimensional data.\n",
    "\n",
    "3. May not perform well with clusters of varying densities and sizes."
   ]
  },
  {
   "cell_type": "markdown",
   "metadata": {},
   "source": [
    "#### Results:"
   ]
  },
  {
   "cell_type": "code",
   "execution_count": 100,
   "metadata": {},
   "outputs": [
    {
     "name": "stdout",
     "output_type": "stream",
     "text": [
      "number of groups: 7\n"
     ]
    }
   ],
   "source": [
    "number_of_groups=len(result[\"cluster_list\"])\n",
    "print(f\"number of groups: {number_of_groups}\")"
   ]
  },
  {
   "cell_type": "markdown",
   "metadata": {},
   "source": [
    "### Method 3: K - mean using silhouette\n",
    "\n",
    "we will use silhoutte score in order to determin the optimal K to use."
   ]
  },
  {
   "cell_type": "code",
   "execution_count": 101,
   "metadata": {},
   "outputs": [],
   "source": [
    "from sklearn.cluster import KMeans\n",
    "from sklearn.metrics import silhouette_score\n",
    "import matplotlib.pyplot as plt\n",
    "\n",
    "# Function to find the optimal number of clusters\n",
    "def find_optimal_clusters(embeddings, max_k):\n",
    "    iters = range(2, max_k+1)\n",
    "    \n",
    "    s_scores = []\n",
    "    for k in iters:\n",
    "        kmeans = KMeans(n_clusters=k, random_state=0).fit(embeddings)\n",
    "        s_scores.append(silhouette_score(embeddings, kmeans.labels_))\n",
    "    \n",
    "    return iters, s_scores"
   ]
  },
  {
   "cell_type": "code",
   "execution_count": 102,
   "metadata": {},
   "outputs": [
    {
     "data": {
      "image/png": "[encoded data removed]",
      "text/plain": [
       "<Figure size 800x600 with 1 Axes>"
      ]
     },
     "metadata": {},
     "output_type": "display_data"
    },
    {
     "name": "stdout",
     "output_type": "stream",
     "text": [
      "Optimal number of clusters: 14\n"
     ]
    }
   ],
   "source": [
    "# Visualize, Visualize , Visualize!!!!!\n",
    "# Determine the optimal number of clusters\n",
    "max_k = 15\n",
    "iters, s_scores = find_optimal_clusters(embeddings, max_k)\n",
    "\n",
    "# Plot silhouette scores\n",
    "plt.figure(figsize=(8, 6))\n",
    "plt.plot(iters, s_scores, marker='o')\n",
    "plt.xlabel('Number of clusters')\n",
    "plt.ylabel('Silhouette Score')\n",
    "plt.title('Silhouette Scores for K-Means Clustering')\n",
    "plt.show()\n",
    "\n",
    "# Find the optimal number of clusters\n",
    "optimal_k = iters[s_scores.index(max(s_scores))]\n",
    "print(f\"Optimal number of clusters: {optimal_k}\")"
   ]
  },
  {
   "cell_type": "code",
   "execution_count": 103,
   "metadata": {},
   "outputs": [],
   "source": [
    "# KMean on the optimal number of clusters\n",
    "def optimal_k_mean(optimal_k):\n",
    "\n",
    "# Fit KMeans with the optimal number of clusters\n",
    "    kmeans = KMeans(n_clusters=optimal_k, random_state=0).fit(embeddings)\n",
    "\n",
    "# Get cluster labels\n",
    "    labels_kmeans = kmeans.labels_\n",
    "\n",
    "# Group paragraphs by cluster\n",
    "    clusters_kmeans = {}\n",
    "    for paragraph, label in zip(claims_text, labels_kmeans):\n",
    "        if label not in clusters_kmeans:\n",
    "            clusters_kmeans[label] = []\n",
    "        clusters_kmeans[label].append(paragraph)\n",
    "    return clusters_kmeans\n"
   ]
  },
  {
   "cell_type": "code",
   "execution_count": 104,
   "metadata": {},
   "outputs": [],
   "source": [
    "# giving meaningful names to clusters and dumping the result to Json.\n",
    "clusters_kmeans = optimal_k_mean(optimal_k)\n",
    "result=find_best_labels(clusters_kmeans)\n",
    "with open('method3.json', 'w') as json_file:\n",
    "    json.dump(result, json_file, indent=4)"
   ]
  },
  {
   "cell_type": "markdown",
   "metadata": {},
   "source": [
    "#### Method 3 Sum Up"
   ]
  },
  {
   "cell_type": "markdown",
   "metadata": {},
   "source": [
    "##### Adventages:\n",
    "\n",
    "1. Silhouette score provides a quantitative measure of how well each data point fits into its assigned cluster. This helps in assessing the quality of clustering objectively.\n",
    "\n",
    "2.  K-Means can handle high-dimensional data efficiently, which is beneficial when dealing with complex datasets."
   ]
  },
  {
   "cell_type": "markdown",
   "metadata": {},
   "source": [
    "##### Disadvenatges:\n",
    "\n",
    "1. Computing silhouette scores requires calculating distances between each data point and all other points in its cluster, making it computationally expensive for large datasets or high-dimensional data.\n",
    "\n",
    "2. Silhouette scores may not perform well with clusters that are not well-separated or have irregular shapes. They assume convex and well-separated clusters."
   ]
  },
  {
   "cell_type": "markdown",
   "metadata": {},
   "source": [
    "#### Results:"
   ]
  },
  {
   "cell_type": "code",
   "execution_count": 105,
   "metadata": {},
   "outputs": [
    {
     "name": "stdout",
     "output_type": "stream",
     "text": [
      "number of groups: 14\n"
     ]
    }
   ],
   "source": [
    "number_of_groups=len(result[\"cluster_list\"])\n",
    "print(f\"number of groups: {number_of_groups}\")"
   ]
  },
  {
   "cell_type": "markdown",
   "metadata": {},
   "source": [
    "# TASK 3\n",
    "###  Creating an interactive application\n",
    "\n",
    "I choose the 3rd method over all the above because of the adventages of K mean, when the number of clusters is known or estimated it is a better use.\n",
    "and the data is small so it should not take a lot of time to do the computations."
   ]
  },
  {
   "cell_type": "code",
   "execution_count": 106,
   "metadata": {},
   "outputs": [],
   "source": [
    "from flask import Flask, request, jsonify\n",
    "\n",
    "app = Flask(__name__)\n",
    "\n",
    "@app.route('/group', methods=['GET'])\n",
    "def group():\n",
    "        \n",
    "    num_clusters = int(request.args.get('groups'))\n",
    "    clusters_kmeans = optimal_k_mean(num_clusters)\n",
    "    response = {\n",
    "        'groups': []\n",
    "    }\n",
    "    for group in clusters_kmeans.values():\n",
    "        represent = extract_best_label(group)\n",
    "        response[\"groups\"].append({\"number_of_claims\":  f\"{len(group)}\" , \"title\": represent.lower().strip()})\n",
    "    return jsonify(response)\n"
   ]
  },
  {
   "cell_type": "markdown",
   "metadata": {},
   "source": [
    "activate the app by deleting the `#` and run it"
   ]
  },
  {
   "cell_type": "code",
   "execution_count": 107,
   "metadata": {},
   "outputs": [],
   "source": [
    "# def main():\n",
    "#     app.run(debug=False)\n",
    "\n",
    "\n",
    "# if __name__ == '__main__':\n",
    "#     main()\n"
   ]
  }
 ],
 "metadata": {
  "kernelspec": {
   "display_name": "Python 3",
   "language": "python",
   "name": "python3"
  },
  "language_info": {
   "codemirror_mode": {
    "name": "ipython",
    "version": 3
   },
   "file_extension": ".py",
   "mimetype": "text/x-python",
   "name": "python",
   "nbconvert_exporter": "python",
   "pygments_lexer": "ipython3",
   "version": "3.10.11"
  }
 },
 "nbformat": 4,
 "nbformat_minor": 2
}
